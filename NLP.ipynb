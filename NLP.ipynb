{
  "nbformat": 4,
  "nbformat_minor": 0,
  "metadata": {
    "colab": {
      "provenance": [],
      "authorship_tag": "ABX9TyME71XlL9fG/mAfYYSjzukb",
      "include_colab_link": true
    },
    "kernelspec": {
      "name": "python3",
      "display_name": "Python 3"
    },
    "language_info": {
      "name": "python"
    }
  },
  "cells": [
    {
      "cell_type": "markdown",
      "metadata": {
        "id": "view-in-github",
        "colab_type": "text"
      },
      "source": [
        "<a href=\"https://colab.research.google.com/github/Trinity-SYT-SECURITY/NLP_jieba/blob/main/NLP.ipynb\" target=\"_parent\"><img src=\"https://colab.research.google.com/assets/colab-badge.svg\" alt=\"Open In Colab\"/></a>"
      ]
    },
    {
      "cell_type": "code",
      "source": [
        "#!git clone https://github.com/fxsjy/jieba.git\n",
        "!pip install whoosh"
      ],
      "metadata": {
        "colab": {
          "base_uri": "https://localhost:8080/"
        },
        "id": "-3dCKx6SlgtU",
        "outputId": "eb151f71-0b8b-4850-c4cd-0dee44845b58"
      },
      "execution_count": null,
      "outputs": [
        {
          "output_type": "stream",
          "name": "stdout",
          "text": [
            "Looking in indexes: https://pypi.org/simple, https://us-python.pkg.dev/colab-wheels/public/simple/\n",
            "Requirement already satisfied: whoosh in /usr/local/lib/python3.8/dist-packages (2.7.4)\n"
          ]
        }
      ]
    },
    {
      "cell_type": "code",
      "execution_count": null,
      "metadata": {
        "id": "Jz7Ww8xilX7u"
      },
      "outputs": [],
      "source": [
        "from io import StringIO\n",
        "import io\n",
        "import os.path\n",
        "import csv\n",
        "import jieba\n",
        "import jieba.analyse\n",
        "import string\n",
        "import logging\n",
        "import jieba.posseg as pseg\n",
        "#from jieba.analyse import ChineseAnalyzer\n",
        "\n",
        "import re\n",
        "\n",
        "\n",
        "srcPath = \"/content/testzh\"#請確保該目錄下有要進行關鍵字提取的文本，自行更改正確路徑\n",
        "files = [f for f in os.listdir(srcPath) if f.endswith(\".txt\")]\n",
        "data=[]\n",
        "jieba.initialize()\n",
        "\n",
        "#預處理\n",
        "def preprocess_text(text):\n",
        "    # 去除.跟數字'[^*&%#@^$\"\\]'\n",
        "    pattern = re.compile(r'[{}]')\n",
        "    #pattern = re.split(\"(?<!\\d)\\.(?!.\\d)\")\n",
        "    text = re.sub(pattern, '', text)\n",
        "    stopword_set = set()#載入斷詞\n",
        "    tokens = [word for word in text.split() if word not in stopword_set]\n",
        "    \n",
        "    return \" \".join(tokens)\n"
      ]
    },
    {
      "cell_type": "code",
      "source": [
        "!conda install -c conda-forge openjdk python=3.8 jpype1=0.7.0 -y\n",
        "!pip install pyhanlp\n",
        "\n",
        "from pyhanlp import *\n",
        "\n"
      ],
      "metadata": {
        "colab": {
          "base_uri": "https://localhost:8080/"
        },
        "id": "yneX2xFW_HhB",
        "outputId": "865c95fc-a23b-4f9d-d6d3-6bb867e26407"
      },
      "execution_count": null,
      "outputs": [
        {
          "output_type": "stream",
          "name": "stdout",
          "text": [
            "/bin/bash: conda: command not found\n",
            "Looking in indexes: https://pypi.org/simple, https://us-python.pkg.dev/colab-wheels/public/simple/\n",
            "Requirement already satisfied: pyhanlp in /usr/local/lib/python3.8/dist-packages (0.1.84)\n",
            "Requirement already satisfied: hanlp-downloader in /usr/local/lib/python3.8/dist-packages (from pyhanlp) (0.0.25)\n",
            "Requirement already satisfied: jpype1==0.7.0 in /usr/local/lib/python3.8/dist-packages (from pyhanlp) (0.7.0)\n",
            "Requirement already satisfied: requests in /usr/local/lib/python3.8/dist-packages (from hanlp-downloader->pyhanlp) (2.25.1)\n",
            "Requirement already satisfied: chardet<5,>=3.0.2 in /usr/local/lib/python3.8/dist-packages (from requests->hanlp-downloader->pyhanlp) (4.0.0)\n",
            "Requirement already satisfied: idna<3,>=2.5 in /usr/local/lib/python3.8/dist-packages (from requests->hanlp-downloader->pyhanlp) (2.10)\n",
            "Requirement already satisfied: certifi>=2017.4.17 in /usr/local/lib/python3.8/dist-packages (from requests->hanlp-downloader->pyhanlp) (2022.12.7)\n",
            "Requirement already satisfied: urllib3<1.27,>=1.21.1 in /usr/local/lib/python3.8/dist-packages (from requests->hanlp-downloader->pyhanlp) (1.24.3)\n"
          ]
        }
      ]
    },
    {
      "cell_type": "code",
      "source": [
        "import os\n",
        "import re\n",
        "import jieba\n",
        "\n",
        "file_results = {}  # Dictionary to store the search results for each file\n",
        "\n",
        "for file in files:\n",
        "    with open(os.path.join(srcPath, file), \"r\", encoding='utf-8') as f:\n",
        "        text = f.read()\n",
        "        text = preprocess_text(text)\n",
        "\n",
        "        #text = re.sub(r\"(\\d+)\\.(\\d+)\\.(\\d+)\", r\"\\1\\2\\3\", text)  \n",
        "        tokens = jieba.tokenize(text)\n",
        "        result = []\n",
        "        for tk in tokens:\n",
        "            word = tk[0]\n",
        "            start = tk[1]\n",
        "            end = tk[2]\n",
        "            if '.' in word and all(c.isdigit() or c == '.' for c in word):\n",
        "                # preserve dots in numbers\n",
        "                for subword in word.split('.'):\n",
        "                    result.append((subword, start, start+len(subword)))\n",
        "                    start += len(subword)\n",
        "            else:\n",
        "                result.append((word, start, end))\n",
        "        #text = jieba.lcut_for_search(str(text),HMM=True)\n",
        "        # join words and print result\n",
        "        result = [r[0] for r in result]\n",
        "        \n",
        "        text = ''.join(text)\n",
        "        print(text)\n",
        "        file_results[file] = text  # Store the tokenized text for this file\n",
        "\n",
        "while True:\n",
        "    user = input(\"Input search Producename: \")\n",
        "    user_results = {}  # Dictionary to store the search results for each file\n",
        "\n",
        "    for file, text in file_results.items():\n",
        "        if user in text:\n",
        "            user_results[file] = text.count(user)\n",
        "\n",
        "    if len(user_results) == 0:\n",
        "        print(\"No files found containing search term.\")\n",
        "    else:\n",
        "        for file, count in user_results.items():\n",
        "            print(\"Found\", user, \"in file\", file, \":\", count, \"times\")\n",
        "\n",
        "    answer = input(\"Do you want to search for another product name? (y/n)\")\n",
        "    if answer.lower() != \"y\":\n",
        "        break\n",
        "\n",
        "  "
      ],
      "metadata": {
        "colab": {
          "base_uri": "https://localhost:8080/",
          "height": 593
        },
        "id": "lqLJjyYTydKD",
        "outputId": "5806c54f-3ba8-410d-a547-ac60606f9189"
      },
      "execution_count": null,
      "outputs": [
        {
          "output_type": "stream",
          "name": "stdout",
          "text": [
            "CVE-2021-37311 Buffer Overflow vulnerability in fcitx5 5.0.8 allows attackers to cause a denial of service via crafted message to the application's listening port.By selecting these links, you will be leaving NIST webspace.We have provided these links to other web sites because theymay have information that would be of interest to you. Noinferences should be drawn on account of other sites beingreferenced, or not, from this page. There may be other websites that are more appropriate for your purpose. NIST doesnot necessarily endorse the views expressed, or concur withthe facts presented on these sites. Further, NIST does notendorse any commercial products that may be mentioned onthese sites. Please address comments about this page to . SeverityCVSSVersion 3.xCVSSVersion 2.0 CVSS 3.x Severity and Metrics:NIST: NVDBaseScore: 7.5 HIGH Vector: CVSS:3.1/AV:N/AC:L/PR:N/UI:N/S:U/C:N/I:N/A:H NVD Analysts use publicly available information to associate vector strings and CVSS scores. We also display any CVSS information provided within the CVE List from the CNA.Note: NVD Analysts have published a CVSS score for this CVE based on publicly available information at the time of analysis. The CNA has not provided a score within the CVE List.CVSS 2.0 Severity and Metrics: NIST: NVDBaseScore: N/A NVD scorenot yet provided. NVD Analysts use publicly available information to associate vector strings and CVSS scores. We also display any CVSS information provided within the CVE List from the CNA.Note: NVD Analysts have not published a CVSS score for this CVE at this time. NVD Analysts use publicly available information at the time of analysis to associate CVSS vector strings. References to Advisories, Solutions, and ToolsBy selecting these links, you will be leaving NIST webspace.We have provided these links to other web sites because theymay have information that would be of interest to you. Noinferences should be drawn on account of other sites beingreferenced, or not, from this page. There may be other websites that are more appropriate for your purpose. NIST doesnot necessarily endorse the views expressed, or concur withthe facts presented on these sites. Further, NIST does notendorse any commercial products that may be mentioned onthese sites. Please address comments about this page to nvd@nist.gov.HyperlinkResourcehttps://fcitx-im.orgProduct https://github.com/fcitx/fcitx5/pull/308Exploit Patch Third Party Advisory Weakness EnumerationCWE-IDCWE NameSourceCWE-120Buffer Copy without Checking Size of Input ('Classic Buffer Overflow')NIST Known Affected Software Configurations Switchto CPE 2.2CPEs loading, please wait.Denotes Vulnerable SoftwareAre we missing a CPE here? Please let us know.Change History 1 change records found show changes Initial Analysis by NIST 2/09/2023 7:42:07 PM ActionTypeOld ValueNew ValueAddedCPE ConfigurationOR*cpe:2.3:a:fcitx_5_project:fcitx_5:5.0.8:*:*:*:*:*:*:*AddedCVSS V3.1NIST AV:N/AC:L/PR:N/UI:N/S:U/C:N/I:N/A:HAddedCWENIST CWE-120ChangedReference Typehttps://fcitx-im.org No Types Assignedhttps://fcitx-im.org ProductChangedReference Typehttps://github.com/fcitx/fcitx5/pull/308 No Types Assignedhttps://github.com/fcitx/fcitx5/pull/308 Exploit, Patch, Third Party Advisory\n",
            "CVE-2021-37315 This vulnerability is currently awaiting analysis.Incorrect Access Control issue discoverd in Cloud Disk in ASUS RT-AC68U router firmware version before 3.0.0.4.386.41634 allows remote attackers to write arbitrary files via improper sanitation on the source for COPY and MOVE operations.By selecting these links, you will be leaving NIST webspace.We have provided these links to other web sites because theymay have information that would be of interest to you. Noinferences should be drawn on account of other sites beingreferenced, or not, from this page. There may be other websites that are more appropriate for your purpose. NIST doesnot necessarily endorse the views expressed, or concur withthe facts presented on these sites. Further, NIST does notendorse any commercial products that may be mentioned onthese sites. Please address comments about this page to . SeverityCVSSVersion 3.xCVSSVersion 2.0 CVSS 3.x Severity and Metrics:NIST: NVD BaseScore: N/A NVD scorenot yet provided. NVD Analysts use publicly available information to associate vector strings and CVSS scores. We also display any CVSS information provided within the CVE List from the CNA.Note: NVD Analysts have not published a CVSS score for this CVE at this time. NVD Analysts use publicly available information at the time of analysis to associate CVSS vector strings.CVSS 2.0 Severity and Metrics: NIST: NVDBaseScore: N/A NVD scorenot yet provided. NVD Analysts use publicly available information to associate vector strings and CVSS scores. We also display any CVSS information provided within the CVE List from the CNA.Note: NVD Analysts have not published a CVSS score for this CVE at this time. NVD Analysts use publicly available information at the time of analysis to associate CVSS vector strings. References to Advisories, Solutions, and ToolsBy selecting these links, you will be leaving NIST webspace.We have provided these links to other web sites because theymay have information that would be of interest to you. Noinferences should be drawn on account of other sites beingreferenced, or not, from this page. There may be other websites that are more appropriate for your purpose. NIST doesnot necessarily endorse the views expressed, or concur withthe facts presented on these sites. Further, NIST does notendorse any commercial products that may be mentioned onthese sites. Please address comments about this page to nvd@nist.gov.HyperlinkResourcehttps://robertchen.cc/blog/2021/03/31/asus-rceWeakness EnumerationCWE-IDCWE NameSourceChange History 0 change records found show changes\n",
            "CVE-2013-10015 目前正在等待分析，這種漏洞已在Fanzila Web Finance中發現了一個漏洞，並被歸類為關鍵。 此漏洞會影響文件htdocs/admin/save_contract_signer_role.php的未知代碼。 該論點的操作N/V導致SQL注入。 補丁的名稱是Abad81AF614A9CEEF3F29AB22CA6BAE517619E06。 建議應用一個補丁以解決此問題。 VDB-220054是分配給此漏洞的標識符。通過選擇這些鏈接，您將離開NIST Webspace。我們已經提供了這些鏈接到其他網站，因為它們的信息具有您感興趣的信息。 應根據此頁面的其他網站引用其他站點來徵求Noinences。 可能還有其他網站更適合您的目的。 NIST並不一定認可所表達的觀點，也不同意這些站點上提出的事實。 此外，NIST確實會注意到這些網站可能會提到的任何商業產品。 請將有關此頁面的評論聯繫到。 SeverityCVSSsversion 3.XCVSSVersion 2.0 CVSS 3.x嚴重性和指標：NIST：NVD baseScore：n/a nvd scorenot尚未提供。 CNA：VULDBBASESCORE：5.5中向量：CVSS：3.0/AV：A/AC：L/PR：L/UI：N/S：U/C：L/I：L/I：L/A：L NVD分析師使用公開可用的信息來關聯 向量字符串和CVSS得分。 我們還從CNA列表中顯示了CVSS信息。注意：NVD分析師目前尚未發布此CVE的CVSS分數。 NVD分析師在分析時使用公開可用的信息來關聯CVSS矢量字符串。 CVSS 2.0嚴重性和指標：NIST：NVDBASESCORE：NVDBASESCORE：N/A NVD SCORENOT尚未提供。 CNA：VULDBBASESCORE：5.2中向量：（ AV：A/AC：L/AU：S/C：P/I：P/A：P/A：P/P）NVD分析師使用公開可用的信息將矢量字符串和CVSS分數關聯。 我們還從CNA列表中顯示了CVSS信息。注意：NVD分析師目前尚未發布此CVE的CVSS分數。 NVD分析師在分析時使用公開可用的信息來關聯CVSS矢量字符串。 已顯示CVE列表中提供的CNA分數。 對諮詢，解決方案和工具的引用，您將離開NIST Webspace。我們已提供了這些鏈接到其他網站，因為它們的信息具有您感興趣的信息。 應根據此頁面的其他網站引用其他站點來徵求Noinences。 可能還有其他網站更適合您的目的。 NIST並不一定認可所表達的觀點，也不同意這些站點上提出的事實。 此外，NIST確實會注意到這些網站可能會提到的任何商業產品。 請在nvd@nist.gov.hyperlinkrinkrinkercehtps：//github.com/fanzila/webfinance/commit/commit/abad814a914a9ceef3f29ab22ca6bae517619e06https ewhere to此頁面上。 EnumerationCwe-Idcwe namesourcee-89Improper中和SQL命令中使用的特殊元素（'sql Indionction'）\n",
            "CVE-2021-36712 Cross Site Scripting (XSS) vulnerability in yzmcms 6.1 allows attackers to steal user cookies via image clipping function.By selecting these links, you will be leaving NIST webspace.We have provided these links to other web sites because theymay have information that would be of interest to you. Noinferences should be drawn on account of other sites beingreferenced, or not, from this page. There may be other websites that are more appropriate for your purpose. NIST doesnot necessarily endorse the views expressed, or concur withthe facts presented on these sites. Further, NIST does notendorse any commercial products that may be mentioned onthese sites. Please address comments about this page to . SeverityCVSSVersion 3.xCVSSVersion 2.0 CVSS 3.x Severity and Metrics:NIST: NVDBaseScore: 5.4 MEDIUM Vector: CVSS:3.1/AV:N/AC:L/PR:L/UI:R/S:C/C:L/I:L/A:N NVD Analysts use publicly available information to associate vector strings and CVSS scores. We also display any CVSS information provided within the CVE List from the CNA.Note: NVD Analysts have published a CVSS score for this CVE based on publicly available information at the time of analysis. The CNA has not provided a score within the CVE List.CVSS 2.0 Severity and Metrics: NIST: NVDBaseScore: N/A NVD scorenot yet provided. NVD Analysts use publicly available information to associate vector strings and CVSS scores. We also display any CVSS information provided within the CVE List from the CNA.Note: NVD Analysts have not published a CVSS score for this CVE at this time. NVD Analysts use publicly available information at the time of analysis to associate CVSS vector strings. References to Advisories, Solutions, and ToolsBy selecting these links, you will be leaving NIST webspace.We have provided these links to other web sites because theymay have information that would be of interest to you. Noinferences should be drawn on account of other sites beingreferenced, or not, from this page. There may be other websites that are more appropriate for your purpose. NIST doesnot necessarily endorse the views expressed, or concur withthe facts presented on these sites. Further, NIST does notendorse any commercial products that may be mentioned onthese sites. Please address comments about this page to nvd@nist.gov.HyperlinkResourcehttp://yzmcms.comProduct https://github.com/linuka-deception/yzmcms6.1.gitExploit Third Party Advisory Weakness EnumerationCWE-IDCWE NameSourceCWE-79Improper Neutralization of Input During Web Page Generation ('Cross-site Scripting')NIST Known Affected Software Configurations Switchto CPE 2.2CPEs loading, please wait.Denotes Vulnerable SoftwareAre we missing a CPE here? Please let us know.Change History 1 change records found show changes Initial Analysis by NIST 2/09/2023 1:50:41 PM ActionTypeOld ValueNew ValueAddedCPE ConfigurationOR*cpe:2.3:a:yzmcms:yzmcms:6.1:*:*:*:*:*:*:*AddedCVSS V3.1NIST AV:N/AC:L/PR:L/UI:R/S:C/C:L/I:L/A:NAddedCWENIST CWE-79ChangedReference Typehttp://yzmcms.com No Types Assignedhttp://yzmcms.com ProductChangedReference Typehttps://github.com/linuka-deception/yzmcms6.1.git No Types Assignedhttps://github.com/linuka-deception/yzmcms6.1.git Exploit, Third Party Advisory\n",
            "CVE-2021-37304 An Insecure Permissions issue in jeecg-boot 2.4.5 allows unauthenticated remote attackers to gain escalated privilege and view sensitive information via the httptrace interface.By selecting these links, you will be leaving NIST webspace.We have provided these links to other web sites because theymay have information that would be of interest to you. Noinferences should be drawn on account of other sites beingreferenced, or not, from this page. There may be other websites that are more appropriate for your purpose. NIST doesnot necessarily endorse the views expressed, or concur withthe facts presented on these sites. Further, NIST does notendorse any commercial products that may be mentioned onthese sites. Please address comments about this page to . SeverityCVSSVersion 3.xCVSSVersion 2.0 CVSS 3.x Severity and Metrics:NIST: NVDBaseScore: 7.5 HIGH Vector: CVSS:3.1/AV:N/AC:L/PR:N/UI:N/S:U/C:H/I:N/A:N NVD Analysts use publicly available information to associate vector strings and CVSS scores. We also display any CVSS information provided within the CVE List from the CNA.Note: NVD Analysts have published a CVSS score for this CVE based on publicly available information at the time of analysis. The CNA has not provided a score within the CVE List.CVSS 2.0 Severity and Metrics: NIST: NVDBaseScore: N/A NVD scorenot yet provided. NVD Analysts use publicly available information to associate vector strings and CVSS scores. We also display any CVSS information provided within the CVE List from the CNA.Note: NVD Analysts have not published a CVSS score for this CVE at this time. NVD Analysts use publicly available information at the time of analysis to associate CVSS vector strings. References to Advisories, Solutions, and ToolsBy selecting these links, you will be leaving NIST webspace.We have provided these links to other web sites because theymay have information that would be of interest to you. Noinferences should be drawn on account of other sites beingreferenced, or not, from this page. There may be other websites that are more appropriate for your purpose. NIST doesnot necessarily endorse the views expressed, or concur withthe facts presented on these sites. Further, NIST does notendorse any commercial products that may be mentioned onthese sites. Please address comments about this page to nvd@nist.gov.HyperlinkResourcehttps://github.com/jeecgboot/jeecg-boot/issues/2793Third Party Advisory Weakness EnumerationCWE-IDCWE NameSourceCWE-732Incorrect Permission Assignment for Critical ResourceNIST Known Affected Software Configurations Switchto CPE 2.2CPEs loading, please wait.Denotes Vulnerable SoftwareAre we missing a CPE here? Please let us know.Change History 1 change records found show changes Initial Analysis by NIST 2/09/2023 1:47:49 PM ActionTypeOld ValueNew ValueAddedCPE ConfigurationOR*cpe:2.3:a:jeecg:jeecg:*:*:*:*:*:*:*:* versions up to (including) 2.4.5AddedCVSS V3.1NIST AV:N/AC:L/PR:N/UI:N/S:U/C:H/I:N/A:NAddedCWENIST CWE-732ChangedReference Typehttps://github.com/jeecgboot/jeecg-boot/issues/2793 No Types Assignedhttps://github.com/jeecgboot/jeecg-boot/issues/2793 Third Party Advisory\n",
            "CVE-2021-37234 Incorrect Access Control vulnerability in Modern Honey Network commit 0abf0db9cd893c6d5c727d036e1f817c02de4c7b allows remote attackers to view sensitive information via crafted PUT request to Web API.By selecting these links, you will be leaving NIST webspace.We have provided these links to other web sites because theymay have information that would be of interest to you. Noinferences should be drawn on account of other sites beingreferenced, or not, from this page. There may be other websites that are more appropriate for your purpose. NIST doesnot necessarily endorse the views expressed, or concur withthe facts presented on these sites. Further, NIST does notendorse any commercial products that may be mentioned onthese sites. Please address comments about this page to . SeverityCVSSVersion 3.xCVSSVersion 2.0 CVSS 3.x Severity and Metrics:NIST: NVDBaseScore: 6.5 MEDIUM Vector: CVSS:3.1/AV:N/AC:L/PR:N/UI:N/S:U/C:L/I:L/A:N NVD Analysts use publicly available information to associate vector strings and CVSS scores. We also display any CVSS information provided within the CVE List from the CNA.Note: NVD Analysts have published a CVSS score for this CVE based on publicly available information at the time of analysis. The CNA has not provided a score within the CVE List.CVSS 2.0 Severity and Metrics: NIST: NVDBaseScore: N/A NVD scorenot yet provided. NVD Analysts use publicly available information to associate vector strings and CVSS scores. We also display any CVSS information provided within the CVE List from the CNA.Note: NVD Analysts have not published a CVSS score for this CVE at this time. NVD Analysts use publicly available information at the time of analysis to associate CVSS vector strings. References to Advisories, Solutions, and ToolsBy selecting these links, you will be leaving NIST webspace.We have provided these links to other web sites because theymay have information that would be of interest to you. Noinferences should be drawn on account of other sites beingreferenced, or not, from this page. There may be other websites that are more appropriate for your purpose. NIST doesnot necessarily endorse the views expressed, or concur withthe facts presented on these sites. Further, NIST does notendorse any commercial products that may be mentioned onthese sites. Please address comments about this page to nvd@nist.gov.HyperlinkResourcehttps://github.com/pwnlandia/mhn/issues/809Exploit Issue Tracking Third Party Advisory Weakness EnumerationCWE-IDCWE NameSourceCWE-863Incorrect AuthorizationNIST Known Affected Software Configurations Switchto CPE 2.2CPEs loading, please wait.Denotes Vulnerable SoftwareAre we missing a CPE here? Please let us know.Change History 1 change records found show changes Initial Analysis by NIST 2/09/2023 7:43:14 PM ActionTypeOld ValueNew ValueAddedCPE ConfigurationOR*cpe:2.3:a:modern_honey_network_project:modern_honey_network:*:*:*:*:*:*:*:* versions up to (excluding) 2021-10-30AddedCVSS V3.1NIST AV:N/AC:L/PR:N/UI:N/S:U/C:L/I:L/A:NAddedCWENIST CWE-863ChangedReference Typehttps://github.com/pwnlandia/mhn/issues/809 No Types Assignedhttps://github.com/pwnlandia/mhn/issues/809 Exploit, Issue Tracking, Third Party Advisory\n",
            "CVE-2021-37306 An Insecure Permissions issue in jeecg-boot 2.4.5 and earlier allows remote attackers to gain escalated privilege and view sensitive information via api uri: api uri:/sys/user/checkOnlyUser?username=admin.By selecting these links, you will be leaving NIST webspace.We have provided these links to other web sites because theymay have information that would be of interest to you. Noinferences should be drawn on account of other sites beingreferenced, or not, from this page. There may be other websites that are more appropriate for your purpose. NIST doesnot necessarily endorse the views expressed, or concur withthe facts presented on these sites. Further, NIST does notendorse any commercial products that may be mentioned onthese sites. Please address comments about this page to . SeverityCVSSVersion 3.xCVSSVersion 2.0 CVSS 3.x Severity and Metrics:NIST: NVDBaseScore: 7.5 HIGH Vector: CVSS:3.1/AV:N/AC:L/PR:N/UI:N/S:U/C:H/I:N/A:N NVD Analysts use publicly available information to associate vector strings and CVSS scores. We also display any CVSS information provided within the CVE List from the CNA.Note: NVD Analysts have published a CVSS score for this CVE based on publicly available information at the time of analysis. The CNA has not provided a score within the CVE List.CVSS 2.0 Severity and Metrics: NIST: NVDBaseScore: N/A NVD scorenot yet provided. NVD Analysts use publicly available information to associate vector strings and CVSS scores. We also display any CVSS information provided within the CVE List from the CNA.Note: NVD Analysts have not published a CVSS score for this CVE at this time. NVD Analysts use publicly available information at the time of analysis to associate CVSS vector strings. References to Advisories, Solutions, and ToolsBy selecting these links, you will be leaving NIST webspace.We have provided these links to other web sites because theymay have information that would be of interest to you. Noinferences should be drawn on account of other sites beingreferenced, or not, from this page. There may be other websites that are more appropriate for your purpose. NIST doesnot necessarily endorse the views expressed, or concur withthe facts presented on these sites. Further, NIST does notendorse any commercial products that may be mentioned onthese sites. Please address comments about this page to nvd@nist.gov.HyperlinkResourcehttps://github.com/jeecgboot/jeecg-boot/issues/2794Third Party Advisory Weakness EnumerationCWE-IDCWE NameSourceCWE-732Incorrect Permission Assignment for Critical ResourceNIST Known Affected Software Configurations Switchto CPE 2.2CPEs loading, please wait.Denotes Vulnerable SoftwareAre we missing a CPE here? Please let us know.Change History 1 change records found show changes Initial Analysis by NIST 2/09/2023 1:48:20 PM ActionTypeOld ValueNew ValueAddedCPE ConfigurationOR*cpe:2.3:a:jeecg:jeecg:*:*:*:*:*:*:*:* versions up to (including) 2.4.5AddedCVSS V3.1NIST AV:N/AC:L/PR:N/UI:N/S:U/C:H/I:N/A:NAddedCWENIST CWE-732ChangedReference Typehttps://github.com/jeecgboot/jeecg-boot/issues/2794 No Types Assignedhttps://github.com/jeecgboot/jeecg-boot/issues/2794 Third Party Advisory\n",
            "CVE-2021-37305 An Insecure Permissions issue in jeecg-boot 2.4.5 and earlier allows remote attackers to gain escalated privilege and view sensitive information via api uri: /sys/user/querySysUser?username=admin.By selecting these links, you will be leaving NIST webspace.We have provided these links to other web sites because theymay have information that would be of interest to you. Noinferences should be drawn on account of other sites beingreferenced, or not, from this page. There may be other websites that are more appropriate for your purpose. NIST doesnot necessarily endorse the views expressed, or concur withthe facts presented on these sites. Further, NIST does notendorse any commercial products that may be mentioned onthese sites. Please address comments about this page to . SeverityCVSSVersion 3.xCVSSVersion 2.0 CVSS 3.x Severity and Metrics:NIST: NVDBaseScore: 7.5 HIGH Vector: CVSS:3.1/AV:N/AC:L/PR:N/UI:N/S:U/C:H/I:N/A:N NVD Analysts use publicly available information to associate vector strings and CVSS scores. We also display any CVSS information provided within the CVE List from the CNA.Note: NVD Analysts have published a CVSS score for this CVE based on publicly available information at the time of analysis. The CNA has not provided a score within the CVE List.CVSS 2.0 Severity and Metrics: NIST: NVDBaseScore: N/A NVD scorenot yet provided. NVD Analysts use publicly available information to associate vector strings and CVSS scores. We also display any CVSS information provided within the CVE List from the CNA.Note: NVD Analysts have not published a CVSS score for this CVE at this time. NVD Analysts use publicly available information at the time of analysis to associate CVSS vector strings. References to Advisories, Solutions, and ToolsBy selecting these links, you will be leaving NIST webspace.We have provided these links to other web sites because theymay have information that would be of interest to you. Noinferences should be drawn on account of other sites beingreferenced, or not, from this page. There may be other websites that are more appropriate for your purpose. NIST doesnot necessarily endorse the views expressed, or concur withthe facts presented on these sites. Further, NIST does notendorse any commercial products that may be mentioned onthese sites. Please address comments about this page to nvd@nist.gov.HyperlinkResourcehttps://github.com/jeecgboot/jeecg-boot/issues/2794Third Party Advisory Weakness EnumerationCWE-IDCWE NameSourceCWE-732Incorrect Permission Assignment for Critical ResourceNIST Known Affected Software Configurations Switchto CPE 2.2CPEs loading, please wait.Denotes Vulnerable SoftwareAre we missing a CPE here? Please let us know.Change History 1 change records found show changes Initial Analysis by NIST 2/09/2023 1:48:11 PM ActionTypeOld ValueNew ValueAddedCPE ConfigurationOR*cpe:2.3:a:jeecg:jeecg:*:*:*:*:*:*:*:* versions up to (including) 2.4.5AddedCVSS V3.1NIST AV:N/AC:L/PR:N/UI:N/S:U/C:H/I:N/A:NAddedCWENIST CWE-732ChangedReference Typehttps://github.com/jeecgboot/jeecg-boot/issues/2794 No Types Assignedhttps://github.com/jeecgboot/jeecg-boot/issues/2794 Third Party Advisory\n",
            "CVE-2011-10003 目前正在等待分析。 它被評為關鍵。 此問題會影響組件更新查詢處理程序的一些未知處理。 操縱導致SQL注入。 升級到版本1.4.5可以解決此問題。 補丁的名稱是C6E9449F21256D6362450B29C7847305E756AD5。 建議升級受影響的組件。 此漏洞的關聯標識符是VDB-220247。通過選擇這些鏈接，您將離開NIST Webspace。我們已經提供了這些鏈接到其他網站，因為它們的信息具有您感興趣的信息。 應根據此頁面的其他網站引用其他站點來徵求Noinences。 可能還有其他網站更適合您的目的。 NIST並不一定認可所表達的觀點，也不同意這些站點上提出的事實。 此外，NIST確實會注意到這些網站可能會提到的任何商業產品。 請將有關此頁面的評論聯繫到。 SeverityCVSSsversion 3.XCVSSVersion 2.0 CVSS 3.x嚴重性和指標：NIST：NVD baseScore：n/a nvd scorenot尚未提供。 CNA：VULDBBASESCORE：5.5中向量：CVSS：3.0/AV：A/AC：L/PR：L/UI：N/S：U/C：L/I：L/I：L/A：L NVD分析師使用公開可用的信息來關聯 向量字符串和CVSS得分。 我們還從CNA列表中顯示了CVSS信息。注意：NVD分析師目前尚未發布此CVE的CVSS分數。 NVD分析師在分析時使用公開可用的信息來關聯CVSS矢量字符串。 CVSS 2.0嚴重性和指標：NIST：NVDBASESCORE：NVDBASESCORE：N/A NVD SCORENOT尚未提供。 CNA：VULDBBASESCORE：5.2中向量：（ AV：A/AC：L/AU：S/C：P/I：P/A：P/A：P/P）NVD分析師使用公開可用的信息將矢量字符串和CVSS分數關聯。 我們還從CNA列表中顯示了CVSS信息。注意：NVD分析師目前尚未發布此CVE的CVSS分數。 NVD分析師在分析時使用公開可用的信息來關聯CVSS矢量字符串。 已顯示CVE列表中提供的CNA分數。 對諮詢，解決方案和工具的引用，您將離開NIST Webspace。我們已提供了這些鏈接到其他網站，因為它們的信息具有您感興趣的信息。 應根據此頁面的其他網站引用其他站點來徵求Noinences。 可能還有其他網站更適合您的目的。 NIST並不一定認可所表達的觀點，也不同意這些站點上提出的事實。 此外，NIST確實會注意到這些網站可能會提到的任何商業產品。 .220247 Weakness enumerationCwe-Idcwe nameourceece-89Improper中和SQL命令中使用的特殊元素（'SQL注入'）\n",
            "CVE-2013-10016 該漏洞目前正在等待分析。在Fanzila Web Finance 0.5中發現了一個漏洞，並被歸類為關鍵。 此問題影響文件htdocs/admin/save_taxes.php的一些未知處理。 參數ID的操縱導致SQL注入。 補丁的名稱為306F170CA2A8203AE3D8F51FB219BA9E05B945E1。 建議應用一個補丁以解決此問題。 此漏洞的關聯標識符是VDB-2200555。通過選擇這些鏈接，您將離開NIST WebSpace。我們已經提供了這些鏈接到其他網站，因為它們的信息具有您感興趣的信息。 應根據此頁面的其他網站引用其他站點來徵求Noinences。 可能還有其他網站更適合您的目的。 NIST並不一定認可所表達的觀點，也不同意這些站點上提出的事實。 此外，NIST確實會注意到這些網站可能會提到的任何商業產品。 請將有關此頁面的評論聯繫到。 SeverityCVSSsversion 3.XCVSSVersion 2.0 CVSS 3.x嚴重性和指標：NIST：NVD baseScore：n/a nvd scorenot尚未提供。 CNA：VULDBBASESCORE：5.5中向量：CVSS：3.0/AV：A/AC：L/PR：L/UI：N/S：U/C：L/I：L/I：L/A：L NVD分析師使用公開可用的信息來關聯 向量字符串和CVSS得分。 我們還從CNA列表中顯示了CVSS信息。注意：NVD分析師目前尚未發布此CVE的CVSS分數。 NVD分析師在分析時使用公開可用的信息來關聯CVSS矢量字符串。 CVSS 2.0嚴重性和指標：NIST：NVDBASESCORE：NVDBASESCORE：N/A NVD SCORENOT尚未提供。 CNA：VULDBBASESCORE：5.2中向量：（ AV：A/AC：L/AU：S/C：P/I：P/A：P/A：P/P）NVD分析師使用公開可用的信息將矢量字符串和CVSS分數關聯。 我們還從CNA列表中顯示了CVSS信息。注意：NVD分析師目前尚未發布此CVE的CVSS分數。 NVD分析師在分析時使用公開可用的信息來關聯CVSS矢量字符串。 已顯示CVE列表中提供的CNA分數。 對諮詢，解決方案和工具的引用，您將離開NIST Webspace。我們已提供了這些鏈接到其他網站，因為它們的信息具有您感興趣的信息。 應根據此頁面的其他網站引用其他站點來徵求Noinences。 可能還有其他網站更適合您的目的。 NIST並不一定認可所表達的觀點，也不同意這些站點上提出的事實。 此外，NIST確實會注意到這些網站可能會提到的任何商業產品。 EnumerationCwe-Idcwe namesourcee-89Improper中和SQL命令中使用的特殊元素（'sql Indionction'）\n"
          ]
        },
        {
          "output_type": "error",
          "ename": "KeyboardInterrupt",
          "evalue": "ignored",
          "traceback": [
            "\u001b[0;31m---------------------------------------------------------------------------\u001b[0m",
            "\u001b[0;31mKeyboardInterrupt\u001b[0m                         Traceback (most recent call last)",
            "\u001b[0;32m<ipython-input-112-312c0750d319>\u001b[0m in \u001b[0;36m<module>\u001b[0;34m\u001b[0m\n\u001b[1;32m     33\u001b[0m \u001b[0;34m\u001b[0m\u001b[0m\n\u001b[1;32m     34\u001b[0m \u001b[0;32mwhile\u001b[0m \u001b[0;32mTrue\u001b[0m\u001b[0;34m:\u001b[0m\u001b[0;34m\u001b[0m\u001b[0;34m\u001b[0m\u001b[0m\n\u001b[0;32m---> 35\u001b[0;31m     \u001b[0muser\u001b[0m \u001b[0;34m=\u001b[0m \u001b[0minput\u001b[0m\u001b[0;34m(\u001b[0m\u001b[0;34m\"Input search Producename: \"\u001b[0m\u001b[0;34m)\u001b[0m\u001b[0;34m\u001b[0m\u001b[0;34m\u001b[0m\u001b[0m\n\u001b[0m\u001b[1;32m     36\u001b[0m     \u001b[0muser_results\u001b[0m \u001b[0;34m=\u001b[0m \u001b[0;34m{\u001b[0m\u001b[0;34m}\u001b[0m  \u001b[0;31m# Dictionary to store the search results for each file\u001b[0m\u001b[0;34m\u001b[0m\u001b[0;34m\u001b[0m\u001b[0m\n\u001b[1;32m     37\u001b[0m \u001b[0;34m\u001b[0m\u001b[0m\n",
            "\u001b[0;32m/usr/local/lib/python3.8/dist-packages/ipykernel/kernelbase.py\u001b[0m in \u001b[0;36mraw_input\u001b[0;34m(self, prompt)\u001b[0m\n\u001b[1;32m    858\u001b[0m                 \u001b[0;34m\"raw_input was called, but this frontend does not support input requests.\"\u001b[0m\u001b[0;34m\u001b[0m\u001b[0;34m\u001b[0m\u001b[0m\n\u001b[1;32m    859\u001b[0m             )\n\u001b[0;32m--> 860\u001b[0;31m         return self._input_request(str(prompt),\n\u001b[0m\u001b[1;32m    861\u001b[0m             \u001b[0mself\u001b[0m\u001b[0;34m.\u001b[0m\u001b[0m_parent_ident\u001b[0m\u001b[0;34m,\u001b[0m\u001b[0;34m\u001b[0m\u001b[0;34m\u001b[0m\u001b[0m\n\u001b[1;32m    862\u001b[0m             \u001b[0mself\u001b[0m\u001b[0;34m.\u001b[0m\u001b[0m_parent_header\u001b[0m\u001b[0;34m,\u001b[0m\u001b[0;34m\u001b[0m\u001b[0;34m\u001b[0m\u001b[0m\n",
            "\u001b[0;32m/usr/local/lib/python3.8/dist-packages/ipykernel/kernelbase.py\u001b[0m in \u001b[0;36m_input_request\u001b[0;34m(self, prompt, ident, parent, password)\u001b[0m\n\u001b[1;32m    902\u001b[0m             \u001b[0;32mexcept\u001b[0m \u001b[0mKeyboardInterrupt\u001b[0m\u001b[0;34m:\u001b[0m\u001b[0;34m\u001b[0m\u001b[0;34m\u001b[0m\u001b[0m\n\u001b[1;32m    903\u001b[0m                 \u001b[0;31m# re-raise KeyboardInterrupt, to truncate traceback\u001b[0m\u001b[0;34m\u001b[0m\u001b[0;34m\u001b[0m\u001b[0;34m\u001b[0m\u001b[0m\n\u001b[0;32m--> 904\u001b[0;31m                 \u001b[0;32mraise\u001b[0m \u001b[0mKeyboardInterrupt\u001b[0m\u001b[0;34m(\u001b[0m\u001b[0;34m\"Interrupted by user\"\u001b[0m\u001b[0;34m)\u001b[0m \u001b[0;32mfrom\u001b[0m \u001b[0;32mNone\u001b[0m\u001b[0;34m\u001b[0m\u001b[0;34m\u001b[0m\u001b[0m\n\u001b[0m\u001b[1;32m    905\u001b[0m             \u001b[0;32mexcept\u001b[0m \u001b[0mException\u001b[0m \u001b[0;32mas\u001b[0m \u001b[0me\u001b[0m\u001b[0;34m:\u001b[0m\u001b[0;34m\u001b[0m\u001b[0;34m\u001b[0m\u001b[0m\n\u001b[1;32m    906\u001b[0m                 \u001b[0mself\u001b[0m\u001b[0;34m.\u001b[0m\u001b[0mlog\u001b[0m\u001b[0;34m.\u001b[0m\u001b[0mwarning\u001b[0m\u001b[0;34m(\u001b[0m\u001b[0;34m\"Invalid Message:\"\u001b[0m\u001b[0;34m,\u001b[0m \u001b[0mexc_info\u001b[0m\u001b[0;34m=\u001b[0m\u001b[0;32mTrue\u001b[0m\u001b[0;34m)\u001b[0m\u001b[0;34m\u001b[0m\u001b[0;34m\u001b[0m\u001b[0m\n",
            "\u001b[0;31mKeyboardInterrupt\u001b[0m: Interrupted by user"
          ]
        }
      ]
    },
    {
      "cell_type": "code",
      "source": [],
      "metadata": {
        "id": "Xt_OeNku2_CJ"
      },
      "execution_count": null,
      "outputs": []
    },
    {
      "cell_type": "code",
      "source": [],
      "metadata": {
        "id": "-x976Hd_w_-l"
      },
      "execution_count": null,
      "outputs": []
    }
  ]
}